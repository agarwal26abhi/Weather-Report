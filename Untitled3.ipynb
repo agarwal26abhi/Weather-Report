{
 "cells": [
  {
   "cell_type": "code",
   "execution_count": 2,
   "metadata": {
    "collapsed": true
   },
   "outputs": [],
   "source": [
    "import matplotlib.pyplot as plt\n",
    "import mplleaflet\n",
    "import pandas as pd\n",
    "\n",
    "def leaflet_plot_stations(binsize, hashid):\n",
    "\n",
    "    df = pd.read_csv('data/C2A2_data/BinSize_d{}.csv'.format(binsize))\n",
    "\n",
    "    station_locations_by_hash = df[df['hash'] == hashid]\n",
    "\n",
    "    lons = station_locations_by_hash['LONGITUDE'].tolist()\n",
    "    lats = station_locations_by_hash['LATITUDE'].tolist()\n",
    "\n",
    "    plt.figure(figsize=(8,8))\n",
    "\n",
    "    plt.scatter(lons, lats, c='r', alpha=0.7, s=200)\n",
    "\n",
    "    return mplleaflet.display()\n",
    "\n",
    "leaflet_plot_stations(400,'fb441e62df2d58994928907a91895ec62c2c42e6cd075c2700843b89')"
   ]
  },
  {
   "cell_type": "code",
   "execution_count": null,
   "metadata": {},
   "outputs": [],
   "source": [
    "import numpy as np\n",
    "df=pd.read_csv(\"data/C2A2_data/BinnedCsvs_d400/fb441e62df2d58994928907a91895ec62c2c42e6cd075c2700843b89.csv\")\n",
    "df.sort_values([\"ID\",\"Date\"],inplace=True)\n",
    "ld=list(df[df[\"Date\"]==\"2008-02-29\"].index)\n",
    "df.drop(ld,inplace=True)\n",
    "ld=list(df[df[\"Date\"]==\"2012-02-29\"].index)\n",
    "df.drop(ld,inplace=True)\n",
    "df1=df[df[\"Date\"]<\"2015-01-01\"]\n",
    "df2=df[df[\"Date\"]>=\"2015-01-01\"]\n",
    "gp=df1.groupby(\"Date\")\n",
    "min_temp=gp.Data_Value.min()\n",
    "max_temp=gp.Data_Value.max()\n",
    "min_temp=min_temp.reset_index()\n",
    "lt=[]\n",
    "for i in range(0,len(min_temp)):\n",
    "    lt.append(min_temp[\"Date\"].loc[i][5:])\n",
    "min_temp.drop(\"Date\",axis=1,inplace=True)\n",
    "min_temp[\"Date\"]=lt\n",
    "max_temp=max_temp.reset_index()\n",
    "max_temp.drop(\"Date\",axis=1,inplace=True)\n",
    "max_temp[\"Date\"]=lt\n",
    "gp=min_temp.groupby(\"Date\")\n",
    "min_temp=gp.Data_Value.min()\n",
    "gp=max_temp.groupby(\"Date\")\n",
    "max_temp=gp.Data_Value.max()\n",
    "plt.figure()\n",
    "plt.plot(min_temp.values,\"b\",label=\"record low\",alpha=.7)\n",
    "plt.plot(max_temp.values,\"r\",label=\"record high\",alpha=.7)\n",
    "plt.ylim(-700,500)\n",
    "plt.fill_between(range(0,365),min_temp,max_temp,facecolor='yellow',alpha=.7)\n",
    "plt.xlabel(\"Number of Days\")\n",
    "plt.ylabel(\"Temperature(tenths of degrees C)\")\n",
    "plt.title(\"Temperature Summary plot near Ann Arbor, Michigan\")\n",
    "min_2015=df2.groupby(\"Date\").Data_Value.min().reset_index()\n",
    "max_2015=df2.groupby('Date').Data_Value.max().reset_index()\n",
    "min_2015.drop(\"Date\",axis=1,inplace=True)\n",
    "min_2015['Date']=min_temp.index\n",
    "min_2015.set_index(\"Date\",inplace=True)\n",
    "max_2015.drop(\"Date\",axis=1,inplace=True)\n",
    "max_2015['Date']=max_temp.index\n",
    "max_2015.set_index(\"Date\",inplace=True)\n",
    "min_2015=min_2015.where(min_temp>min_2015[\"Data_Value\"])\n",
    "max_2015=max_2015.where(max_temp<max_2015[\"Data_Value\"])\n",
    "min_2015.reset_index(drop=True,inplace=True)\n",
    "min_2015.dropna(inplace=True)\n",
    "max_2015.reset_index(drop=True,inplace=True)\n",
    "max_2015.dropna(inplace=True)\n",
    "plt.scatter(max_2015.index,max_2015[\"Data_Value\"].values,color='g',s=5,label=\"broken high\")\n",
    "plt.scatter(min_2015.index,min_2015[\"Data_Value\"].values,color='orange',s=5,label=\"broken low\")\n",
    "ob=plt.gca()\n",
    "ob.legend(loc=4,frameon=False)\n",
    "plt.show()\n",
    "plt.savefig(\"graph1.png\")"
   ]
  },
  {
   "cell_type": "code",
   "execution_count": null,
   "metadata": {
    "collapsed": true
   },
   "outputs": [],
   "source": []
  }
 ],
 "metadata": {
  "kernelspec": {
   "display_name": "Python 3",
   "language": "python",
   "name": "python3"
  },
  "language_info": {
   "codemirror_mode": {
    "name": "ipython",
    "version": 3
   },
   "file_extension": ".py",
   "mimetype": "text/x-python",
   "name": "python",
   "nbconvert_exporter": "python",
   "pygments_lexer": "ipython3",
   "version": "3.6.1"
  }
 },
 "nbformat": 4,
 "nbformat_minor": 2
}
